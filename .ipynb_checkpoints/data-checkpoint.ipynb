{
 "cells": [
  {
   "cell_type": "code",
   "execution_count": 1,
   "metadata": {},
   "outputs": [],
   "source": [
    "import numpy as np\n",
    "import pandas as pd\n",
    "import matplotlib.pyplot as plt"
   ]
  },
  {
   "cell_type": "code",
   "execution_count": 2,
   "metadata": {},
   "outputs": [],
   "source": [
    "# read data in\n",
    "# confirmed.csv contains infection rates time series\n",
    "confirmed = pd.read_csv('confirmed.csv', header='infer')\n",
    "# unified.csv contains regional population information\n",
    "unified = pd.read_csv('unified.csv', header='infer')\n",
    "\n",
    "# extract the total population N for a county\n",
    "N_Pima = int(unified[unified['Admin2'] == 'Pima']['Population'])"
   ]
  },
  {
   "cell_type": "code",
   "execution_count": 3,
   "metadata": {},
   "outputs": [
    {
     "data": {
      "text/html": [
       "<div>\n",
       "<style scoped>\n",
       "    .dataframe tbody tr th:only-of-type {\n",
       "        vertical-align: middle;\n",
       "    }\n",
       "\n",
       "    .dataframe tbody tr th {\n",
       "        vertical-align: top;\n",
       "    }\n",
       "\n",
       "    .dataframe thead th {\n",
       "        text-align: right;\n",
       "    }\n",
       "</style>\n",
       "<table border=\"1\" class=\"dataframe\">\n",
       "  <thead>\n",
       "    <tr style=\"text-align: right;\">\n",
       "      <th></th>\n",
       "      <th>UID</th>\n",
       "      <th>iso2</th>\n",
       "      <th>iso3</th>\n",
       "      <th>code3</th>\n",
       "      <th>FIPS</th>\n",
       "      <th>Admin2</th>\n",
       "      <th>Province_State</th>\n",
       "      <th>Country_Region</th>\n",
       "      <th>Lat</th>\n",
       "      <th>Long_</th>\n",
       "      <th>...</th>\n",
       "      <th>11/24/20</th>\n",
       "      <th>11/25/20</th>\n",
       "      <th>11/26/20</th>\n",
       "      <th>11/27/20</th>\n",
       "      <th>11/28/20</th>\n",
       "      <th>11/29/20</th>\n",
       "      <th>11/30/20</th>\n",
       "      <th>12/1/20</th>\n",
       "      <th>12/2/20</th>\n",
       "      <th>12/3/20</th>\n",
       "    </tr>\n",
       "  </thead>\n",
       "  <tbody>\n",
       "    <tr>\n",
       "      <th>101</th>\n",
       "      <td>84004001</td>\n",
       "      <td>US</td>\n",
       "      <td>USA</td>\n",
       "      <td>840</td>\n",
       "      <td>4001.0</td>\n",
       "      <td>Apache</td>\n",
       "      <td>Arizona</td>\n",
       "      <td>US</td>\n",
       "      <td>35.394650</td>\n",
       "      <td>-109.489238</td>\n",
       "      <td>...</td>\n",
       "      <td>5036</td>\n",
       "      <td>5112</td>\n",
       "      <td>5217</td>\n",
       "      <td>5309</td>\n",
       "      <td>5347</td>\n",
       "      <td>5391</td>\n",
       "      <td>5392</td>\n",
       "      <td>5492</td>\n",
       "      <td>5548</td>\n",
       "      <td>5630</td>\n",
       "    </tr>\n",
       "    <tr>\n",
       "      <th>102</th>\n",
       "      <td>84004003</td>\n",
       "      <td>US</td>\n",
       "      <td>USA</td>\n",
       "      <td>840</td>\n",
       "      <td>4003.0</td>\n",
       "      <td>Cochise</td>\n",
       "      <td>Arizona</td>\n",
       "      <td>US</td>\n",
       "      <td>31.879347</td>\n",
       "      <td>-109.751609</td>\n",
       "      <td>...</td>\n",
       "      <td>3272</td>\n",
       "      <td>3350</td>\n",
       "      <td>3434</td>\n",
       "      <td>3529</td>\n",
       "      <td>3596</td>\n",
       "      <td>3639</td>\n",
       "      <td>3639</td>\n",
       "      <td>3781</td>\n",
       "      <td>3863</td>\n",
       "      <td>3954</td>\n",
       "    </tr>\n",
       "    <tr>\n",
       "      <th>103</th>\n",
       "      <td>84004005</td>\n",
       "      <td>US</td>\n",
       "      <td>USA</td>\n",
       "      <td>840</td>\n",
       "      <td>4005.0</td>\n",
       "      <td>Coconino</td>\n",
       "      <td>Arizona</td>\n",
       "      <td>US</td>\n",
       "      <td>35.838834</td>\n",
       "      <td>-111.770718</td>\n",
       "      <td>...</td>\n",
       "      <td>7114</td>\n",
       "      <td>7185</td>\n",
       "      <td>7229</td>\n",
       "      <td>7275</td>\n",
       "      <td>7446</td>\n",
       "      <td>7474</td>\n",
       "      <td>7520</td>\n",
       "      <td>7575</td>\n",
       "      <td>7644</td>\n",
       "      <td>7744</td>\n",
       "    </tr>\n",
       "    <tr>\n",
       "      <th>104</th>\n",
       "      <td>84004007</td>\n",
       "      <td>US</td>\n",
       "      <td>USA</td>\n",
       "      <td>840</td>\n",
       "      <td>4007.0</td>\n",
       "      <td>Gila</td>\n",
       "      <td>Arizona</td>\n",
       "      <td>US</td>\n",
       "      <td>33.801901</td>\n",
       "      <td>-110.813278</td>\n",
       "      <td>...</td>\n",
       "      <td>2689</td>\n",
       "      <td>2847</td>\n",
       "      <td>2881</td>\n",
       "      <td>2897</td>\n",
       "      <td>2913</td>\n",
       "      <td>2970</td>\n",
       "      <td>3003</td>\n",
       "      <td>3076</td>\n",
       "      <td>3117</td>\n",
       "      <td>3167</td>\n",
       "    </tr>\n",
       "    <tr>\n",
       "      <th>105</th>\n",
       "      <td>84004009</td>\n",
       "      <td>US</td>\n",
       "      <td>USA</td>\n",
       "      <td>840</td>\n",
       "      <td>4009.0</td>\n",
       "      <td>Graham</td>\n",
       "      <td>Arizona</td>\n",
       "      <td>US</td>\n",
       "      <td>32.931669</td>\n",
       "      <td>-109.888218</td>\n",
       "      <td>...</td>\n",
       "      <td>2008</td>\n",
       "      <td>2041</td>\n",
       "      <td>2117</td>\n",
       "      <td>2132</td>\n",
       "      <td>2158</td>\n",
       "      <td>2194</td>\n",
       "      <td>2215</td>\n",
       "      <td>2242</td>\n",
       "      <td>2256</td>\n",
       "      <td>2281</td>\n",
       "    </tr>\n",
       "    <tr>\n",
       "      <th>106</th>\n",
       "      <td>84004011</td>\n",
       "      <td>US</td>\n",
       "      <td>USA</td>\n",
       "      <td>840</td>\n",
       "      <td>4011.0</td>\n",
       "      <td>Greenlee</td>\n",
       "      <td>Arizona</td>\n",
       "      <td>US</td>\n",
       "      <td>33.214988</td>\n",
       "      <td>-109.240528</td>\n",
       "      <td>...</td>\n",
       "      <td>187</td>\n",
       "      <td>194</td>\n",
       "      <td>208</td>\n",
       "      <td>215</td>\n",
       "      <td>218</td>\n",
       "      <td>224</td>\n",
       "      <td>228</td>\n",
       "      <td>239</td>\n",
       "      <td>248</td>\n",
       "      <td>265</td>\n",
       "    </tr>\n",
       "    <tr>\n",
       "      <th>107</th>\n",
       "      <td>84004012</td>\n",
       "      <td>US</td>\n",
       "      <td>USA</td>\n",
       "      <td>840</td>\n",
       "      <td>4012.0</td>\n",
       "      <td>La Paz</td>\n",
       "      <td>Arizona</td>\n",
       "      <td>US</td>\n",
       "      <td>33.728542</td>\n",
       "      <td>-113.981003</td>\n",
       "      <td>...</td>\n",
       "      <td>755</td>\n",
       "      <td>789</td>\n",
       "      <td>788</td>\n",
       "      <td>825</td>\n",
       "      <td>828</td>\n",
       "      <td>867</td>\n",
       "      <td>867</td>\n",
       "      <td>883</td>\n",
       "      <td>902</td>\n",
       "      <td>921</td>\n",
       "    </tr>\n",
       "    <tr>\n",
       "      <th>108</th>\n",
       "      <td>84004013</td>\n",
       "      <td>US</td>\n",
       "      <td>USA</td>\n",
       "      <td>840</td>\n",
       "      <td>4013.0</td>\n",
       "      <td>Maricopa</td>\n",
       "      <td>Arizona</td>\n",
       "      <td>US</td>\n",
       "      <td>33.348359</td>\n",
       "      <td>-112.491815</td>\n",
       "      <td>...</td>\n",
       "      <td>194410</td>\n",
       "      <td>196849</td>\n",
       "      <td>198822</td>\n",
       "      <td>201340</td>\n",
       "      <td>203663</td>\n",
       "      <td>205332</td>\n",
       "      <td>205658</td>\n",
       "      <td>213121</td>\n",
       "      <td>215386</td>\n",
       "      <td>218935</td>\n",
       "    </tr>\n",
       "    <tr>\n",
       "      <th>109</th>\n",
       "      <td>84004015</td>\n",
       "      <td>US</td>\n",
       "      <td>USA</td>\n",
       "      <td>840</td>\n",
       "      <td>4015.0</td>\n",
       "      <td>Mohave</td>\n",
       "      <td>Arizona</td>\n",
       "      <td>US</td>\n",
       "      <td>35.704717</td>\n",
       "      <td>-113.757790</td>\n",
       "      <td>...</td>\n",
       "      <td>5808</td>\n",
       "      <td>5853</td>\n",
       "      <td>5968</td>\n",
       "      <td>6079</td>\n",
       "      <td>6156</td>\n",
       "      <td>6197</td>\n",
       "      <td>6199</td>\n",
       "      <td>6477</td>\n",
       "      <td>6608</td>\n",
       "      <td>6792</td>\n",
       "    </tr>\n",
       "    <tr>\n",
       "      <th>110</th>\n",
       "      <td>84004017</td>\n",
       "      <td>US</td>\n",
       "      <td>USA</td>\n",
       "      <td>840</td>\n",
       "      <td>4017.0</td>\n",
       "      <td>Navajo</td>\n",
       "      <td>Arizona</td>\n",
       "      <td>US</td>\n",
       "      <td>35.399771</td>\n",
       "      <td>-110.321898</td>\n",
       "      <td>...</td>\n",
       "      <td>7756</td>\n",
       "      <td>7815</td>\n",
       "      <td>7884</td>\n",
       "      <td>7976</td>\n",
       "      <td>8035</td>\n",
       "      <td>8118</td>\n",
       "      <td>8163</td>\n",
       "      <td>8283</td>\n",
       "      <td>8323</td>\n",
       "      <td>8423</td>\n",
       "    </tr>\n",
       "    <tr>\n",
       "      <th>111</th>\n",
       "      <td>84080004</td>\n",
       "      <td>US</td>\n",
       "      <td>USA</td>\n",
       "      <td>840</td>\n",
       "      <td>80004.0</td>\n",
       "      <td>Out of AZ</td>\n",
       "      <td>Arizona</td>\n",
       "      <td>US</td>\n",
       "      <td>0.000000</td>\n",
       "      <td>0.000000</td>\n",
       "      <td>...</td>\n",
       "      <td>0</td>\n",
       "      <td>0</td>\n",
       "      <td>0</td>\n",
       "      <td>0</td>\n",
       "      <td>0</td>\n",
       "      <td>0</td>\n",
       "      <td>0</td>\n",
       "      <td>0</td>\n",
       "      <td>0</td>\n",
       "      <td>0</td>\n",
       "    </tr>\n",
       "    <tr>\n",
       "      <th>112</th>\n",
       "      <td>84004019</td>\n",
       "      <td>US</td>\n",
       "      <td>USA</td>\n",
       "      <td>840</td>\n",
       "      <td>4019.0</td>\n",
       "      <td>Pima</td>\n",
       "      <td>Arizona</td>\n",
       "      <td>US</td>\n",
       "      <td>32.097133</td>\n",
       "      <td>-111.789003</td>\n",
       "      <td>...</td>\n",
       "      <td>36986</td>\n",
       "      <td>37518</td>\n",
       "      <td>37977</td>\n",
       "      <td>38668</td>\n",
       "      <td>39298</td>\n",
       "      <td>39813</td>\n",
       "      <td>39859</td>\n",
       "      <td>40803</td>\n",
       "      <td>41313</td>\n",
       "      <td>41882</td>\n",
       "    </tr>\n",
       "    <tr>\n",
       "      <th>113</th>\n",
       "      <td>84004021</td>\n",
       "      <td>US</td>\n",
       "      <td>USA</td>\n",
       "      <td>840</td>\n",
       "      <td>4021.0</td>\n",
       "      <td>Pinal</td>\n",
       "      <td>Arizona</td>\n",
       "      <td>US</td>\n",
       "      <td>32.905256</td>\n",
       "      <td>-111.344948</td>\n",
       "      <td>...</td>\n",
       "      <td>15613</td>\n",
       "      <td>15707</td>\n",
       "      <td>15962</td>\n",
       "      <td>16110</td>\n",
       "      <td>16312</td>\n",
       "      <td>16643</td>\n",
       "      <td>16699</td>\n",
       "      <td>17124</td>\n",
       "      <td>17372</td>\n",
       "      <td>17702</td>\n",
       "    </tr>\n",
       "    <tr>\n",
       "      <th>114</th>\n",
       "      <td>84004023</td>\n",
       "      <td>US</td>\n",
       "      <td>USA</td>\n",
       "      <td>840</td>\n",
       "      <td>4023.0</td>\n",
       "      <td>Santa Cruz</td>\n",
       "      <td>Arizona</td>\n",
       "      <td>US</td>\n",
       "      <td>31.525090</td>\n",
       "      <td>-110.847909</td>\n",
       "      <td>...</td>\n",
       "      <td>3664</td>\n",
       "      <td>3720</td>\n",
       "      <td>3776</td>\n",
       "      <td>3779</td>\n",
       "      <td>3877</td>\n",
       "      <td>3933</td>\n",
       "      <td>3974</td>\n",
       "      <td>4025</td>\n",
       "      <td>4067</td>\n",
       "      <td>4118</td>\n",
       "    </tr>\n",
       "    <tr>\n",
       "      <th>115</th>\n",
       "      <td>84090004</td>\n",
       "      <td>US</td>\n",
       "      <td>USA</td>\n",
       "      <td>840</td>\n",
       "      <td>90004.0</td>\n",
       "      <td>Unassigned</td>\n",
       "      <td>Arizona</td>\n",
       "      <td>US</td>\n",
       "      <td>0.000000</td>\n",
       "      <td>0.000000</td>\n",
       "      <td>...</td>\n",
       "      <td>0</td>\n",
       "      <td>0</td>\n",
       "      <td>0</td>\n",
       "      <td>0</td>\n",
       "      <td>0</td>\n",
       "      <td>0</td>\n",
       "      <td>0</td>\n",
       "      <td>0</td>\n",
       "      <td>0</td>\n",
       "      <td>0</td>\n",
       "    </tr>\n",
       "    <tr>\n",
       "      <th>116</th>\n",
       "      <td>84004025</td>\n",
       "      <td>US</td>\n",
       "      <td>USA</td>\n",
       "      <td>840</td>\n",
       "      <td>4025.0</td>\n",
       "      <td>Yavapai</td>\n",
       "      <td>Arizona</td>\n",
       "      <td>US</td>\n",
       "      <td>34.599339</td>\n",
       "      <td>-112.553859</td>\n",
       "      <td>...</td>\n",
       "      <td>4638</td>\n",
       "      <td>4751</td>\n",
       "      <td>4860</td>\n",
       "      <td>5028</td>\n",
       "      <td>5181</td>\n",
       "      <td>5329</td>\n",
       "      <td>5530</td>\n",
       "      <td>5666</td>\n",
       "      <td>5814</td>\n",
       "      <td>5971</td>\n",
       "    </tr>\n",
       "    <tr>\n",
       "      <th>117</th>\n",
       "      <td>84004027</td>\n",
       "      <td>US</td>\n",
       "      <td>USA</td>\n",
       "      <td>840</td>\n",
       "      <td>4027.0</td>\n",
       "      <td>Yuma</td>\n",
       "      <td>Arizona</td>\n",
       "      <td>US</td>\n",
       "      <td>32.768957</td>\n",
       "      <td>-113.906667</td>\n",
       "      <td>...</td>\n",
       "      <td>16932</td>\n",
       "      <td>17119</td>\n",
       "      <td>17201</td>\n",
       "      <td>17476</td>\n",
       "      <td>17746</td>\n",
       "      <td>17871</td>\n",
       "      <td>17871</td>\n",
       "      <td>18352</td>\n",
       "      <td>18518</td>\n",
       "      <td>18636</td>\n",
       "    </tr>\n",
       "  </tbody>\n",
       "</table>\n",
       "<p>17 rows × 328 columns</p>\n",
       "</div>"
      ],
      "text/plain": [
       "          UID iso2 iso3  code3     FIPS      Admin2 Province_State  \\\n",
       "101  84004001   US  USA    840   4001.0      Apache        Arizona   \n",
       "102  84004003   US  USA    840   4003.0     Cochise        Arizona   \n",
       "103  84004005   US  USA    840   4005.0    Coconino        Arizona   \n",
       "104  84004007   US  USA    840   4007.0        Gila        Arizona   \n",
       "105  84004009   US  USA    840   4009.0      Graham        Arizona   \n",
       "106  84004011   US  USA    840   4011.0    Greenlee        Arizona   \n",
       "107  84004012   US  USA    840   4012.0      La Paz        Arizona   \n",
       "108  84004013   US  USA    840   4013.0    Maricopa        Arizona   \n",
       "109  84004015   US  USA    840   4015.0      Mohave        Arizona   \n",
       "110  84004017   US  USA    840   4017.0      Navajo        Arizona   \n",
       "111  84080004   US  USA    840  80004.0   Out of AZ        Arizona   \n",
       "112  84004019   US  USA    840   4019.0        Pima        Arizona   \n",
       "113  84004021   US  USA    840   4021.0       Pinal        Arizona   \n",
       "114  84004023   US  USA    840   4023.0  Santa Cruz        Arizona   \n",
       "115  84090004   US  USA    840  90004.0  Unassigned        Arizona   \n",
       "116  84004025   US  USA    840   4025.0     Yavapai        Arizona   \n",
       "117  84004027   US  USA    840   4027.0        Yuma        Arizona   \n",
       "\n",
       "    Country_Region        Lat       Long_  ... 11/24/20  11/25/20  11/26/20  \\\n",
       "101             US  35.394650 -109.489238  ...     5036      5112      5217   \n",
       "102             US  31.879347 -109.751609  ...     3272      3350      3434   \n",
       "103             US  35.838834 -111.770718  ...     7114      7185      7229   \n",
       "104             US  33.801901 -110.813278  ...     2689      2847      2881   \n",
       "105             US  32.931669 -109.888218  ...     2008      2041      2117   \n",
       "106             US  33.214988 -109.240528  ...      187       194       208   \n",
       "107             US  33.728542 -113.981003  ...      755       789       788   \n",
       "108             US  33.348359 -112.491815  ...   194410    196849    198822   \n",
       "109             US  35.704717 -113.757790  ...     5808      5853      5968   \n",
       "110             US  35.399771 -110.321898  ...     7756      7815      7884   \n",
       "111             US   0.000000    0.000000  ...        0         0         0   \n",
       "112             US  32.097133 -111.789003  ...    36986     37518     37977   \n",
       "113             US  32.905256 -111.344948  ...    15613     15707     15962   \n",
       "114             US  31.525090 -110.847909  ...     3664      3720      3776   \n",
       "115             US   0.000000    0.000000  ...        0         0         0   \n",
       "116             US  34.599339 -112.553859  ...     4638      4751      4860   \n",
       "117             US  32.768957 -113.906667  ...    16932     17119     17201   \n",
       "\n",
       "     11/27/20  11/28/20  11/29/20  11/30/20  12/1/20  12/2/20  12/3/20  \n",
       "101      5309      5347      5391      5392     5492     5548     5630  \n",
       "102      3529      3596      3639      3639     3781     3863     3954  \n",
       "103      7275      7446      7474      7520     7575     7644     7744  \n",
       "104      2897      2913      2970      3003     3076     3117     3167  \n",
       "105      2132      2158      2194      2215     2242     2256     2281  \n",
       "106       215       218       224       228      239      248      265  \n",
       "107       825       828       867       867      883      902      921  \n",
       "108    201340    203663    205332    205658   213121   215386   218935  \n",
       "109      6079      6156      6197      6199     6477     6608     6792  \n",
       "110      7976      8035      8118      8163     8283     8323     8423  \n",
       "111         0         0         0         0        0        0        0  \n",
       "112     38668     39298     39813     39859    40803    41313    41882  \n",
       "113     16110     16312     16643     16699    17124    17372    17702  \n",
       "114      3779      3877      3933      3974     4025     4067     4118  \n",
       "115         0         0         0         0        0        0        0  \n",
       "116      5028      5181      5329      5530     5666     5814     5971  \n",
       "117     17476     17746     17871     17871    18352    18518    18636  \n",
       "\n",
       "[17 rows x 328 columns]"
      ]
     },
     "execution_count": 3,
     "metadata": {},
     "output_type": "execute_result"
    }
   ],
   "source": [
    "# extracting Arizona data\n",
    "arizona = confirmed[confirmed['Province_State']=='Arizona']\n",
    "arizona"
   ]
  },
  {
   "cell_type": "code",
   "execution_count": 4,
   "metadata": {},
   "outputs": [
    {
     "data": {
      "text/plain": [
       "array([    0,     0,     0,     0,     0,     0,     0,     0,     0,\n",
       "           0,     0,     0,     0,     0,     0,     0,     0,     0,\n",
       "           0,     0,     0,     0,     0,     0,     0,     0,     0,\n",
       "           0,     0,     0,     0,     0,     0,     0,     0,     0,\n",
       "           0,     0,     0,     0,     0,     0,     0,     0,     0,\n",
       "           0,     0,     0,     1,     1,     1,     1,     2,     2,\n",
       "           4,     4,     5,     7,     8,    12,    17,    24,    42,\n",
       "          49,    75,   102,   120,   153,   187,   202,   217,   237,\n",
       "         280,   326,   372,   415,   415,   464,   512,   543,   591,\n",
       "         622,   668,   685,   700,   760,   819,   856,   913,   941,\n",
       "         963,   973,  1026,  1060,  1090,  1136,  1164,  1188,  1215,\n",
       "        1241,  1267,  1300,  1326,  1346,  1379,  1425,  1465,  1520,\n",
       "        1554,  1585,  1602,  1623,  1661,  1696,  1750,  1781,  1814,\n",
       "        1825,  1888,  1903,  1944,  1974,  2002,  2027,  2046,  2075,\n",
       "        2119,  2167,  2234,  2290,  2368,  2382,  2496,  2627,  2669,\n",
       "        2883,  2950,  3098,  3154,  3161,  3350,  3479,  3628,  3889,\n",
       "        3910,  3944,  4329,  4385,  4682,  5019,  5313,  5370,  5587,\n",
       "        6089,  6318,  6546,  6836,  7086,  7525,  7568,  8004,  8387,\n",
       "        8577,  9024,  9313,  9621,  9873, 10184, 10485, 10835, 11172,\n",
       "       11443, 11767, 11856, 12114, 12406, 12697, 13058, 13270, 13449,\n",
       "       13594, 13848, 13990, 14143, 14428, 14800, 14963, 15109, 15292,\n",
       "       15601, 15884, 16167, 16475, 16655, 16741, 16809, 16964, 17293,\n",
       "       17497, 17728, 17880, 17996, 18381, 18508, 19001, 19164, 19313,\n",
       "       19581, 19743, 19976, 20047, 20139, 20173, 20446, 20475, 20535,\n",
       "       20919, 20911, 21001, 21072, 21133, 21189, 21221, 21286, 21294,\n",
       "       21443, 21574, 21834, 21888, 22000, 22035, 22071, 22140, 22247,\n",
       "       22357, 22418, 22511, 22643, 22887, 23563, 24313, 24511, 24610,\n",
       "       24647, 24798, 25004, 25140, 25265, 25329, 25412, 25445, 25569,\n",
       "       25628, 25706, 25784, 25855, 25925, 25980, 26052, 26092, 26217,\n",
       "       26287, 26363, 26402, 26465, 26516, 26632, 26727, 26769, 26843,\n",
       "       26911, 26955, 27019, 27128, 27208, 27297, 27417, 27484, 27575,\n",
       "       27703, 27962, 28067, 28296, 28598, 28824, 28914, 29141, 29291,\n",
       "       29456, 29764, 30066, 30419, 30493, 31013, 31204, 31538, 31874,\n",
       "       32207, 32802, 33087, 33444, 33822, 34423, 34985, 35237, 36115,\n",
       "       36659, 36986, 37518, 37977, 38668, 39298, 39813, 39859, 40803,\n",
       "       41313, 41882])"
      ]
     },
     "execution_count": 4,
     "metadata": {},
     "output_type": "execute_result"
    }
   ],
   "source": [
    "# extracting Pima data\n",
    "pima = arizona[arizona['Admin2']=='Pima']\n",
    "maricopa = arizona[arizona['Admin2']=='Maricopa']\n",
    "# extract time series portion\n",
    "timeseries = list(pima)[11:]\n",
    "I_pima = pima[timeseries].values[0]\n",
    "I_mari = maricopa[timeseries].values[0]\n",
    "\n",
    "T = len(I_pima)\n",
    "I_pima"
   ]
  },
  {
   "cell_type": "code",
   "execution_count": 5,
   "metadata": {},
   "outputs": [
    {
     "data": {
      "image/png": "[encoded data removed]",
      "text/plain": [
       "<Figure size 432x288 with 1 Axes>"
      ]
     },
     "metadata": {
      "needs_background": "light"
     },
     "output_type": "display_data"
    }
   ],
   "source": [
    "plt.plot(range(T), I_pima, label='Pima' )\n",
    "plt.plot(range(T), I_mari, label='Maricopa')\n",
    "\n",
    "plt.title('Cumulative Infection')\n",
    "plt.ylabel('Number of new cases')\n",
    "plt.xlabel('Number of days since '+timeseries[0])\n",
    "plt.legend()\n",
    "plt.show()"
   ]
  },
  {
   "cell_type": "code",
   "execution_count": 6,
   "metadata": {},
   "outputs": [
    {
     "data": {
      "image/png": "[encoded data removed]",
      "text/plain": [
       "<Figure size 432x288 with 1 Axes>"
      ]
     },
     "metadata": {
      "needs_background": "light"
     },
     "output_type": "display_data"
    }
   ],
   "source": [
    "# Take pair-wise difference to see infection rate curve\n",
    "dI_pima = [I_pima[i+1]-I_pima[i] for i in range(T-1)]\n",
    "dI_mari = [I_mari[i+1]-I_mari[i] for i in range(T-1)]\n",
    "plt.plot(range(T-1), dI_pima, label='Pima')\n",
    "plt.plot(range(T-1), dI_mari, label='Maricopa')\n",
    "plt.title('Infection Rates')\n",
    "plt.xlabel('Number of days since '+timeseries[0])\n",
    "plt.ylabel('Number of new infections per day')\n",
    "plt.legend()\n",
    "plt.show()"
   ]
  },
  {
   "cell_type": "code",
   "execution_count": 39,
   "metadata": {},
   "outputs": [
    {
     "data": {
      "text/plain": [
       "[<matplotlib.lines.Line2D at 0x7f965dac5bd0>]"
      ]
     },
     "execution_count": 39,
     "metadata": {},
     "output_type": "execute_result"
    },
    {
     "data": {
      "image/png": "[encoded data removed]",
      "text/plain": [
       "<Figure size 432x288 with 1 Axes>"
      ]
     },
     "metadata": {
      "needs_background": "light"
     },
     "output_type": "display_data"
    }
   ],
   "source": [
    "alpha = 1\n",
    "S_potential = [N_Pima - I[s] - alpha for s in range(T)]\n",
    "plt.plot(range(T), S_potential)"
   ]
  },
  {
   "cell_type": "code",
   "execution_count": 20,
   "metadata": {},
   "outputs": [
    {
     "data": {
      "text/plain": [
       "[<matplotlib.lines.Line2D at 0x7f965a527a90>]"
      ]
     },
     "execution_count": 20,
     "metadata": {},
     "output_type": "execute_result"
    },
    {
     "data": {
      "image/png": "[encoded data removed]",
      "text/plain": [
       "<Figure size 432x288 with 1 Axes>"
      ]
     },
     "metadata": {
      "needs_background": "light"
     },
     "output_type": "display_data"
    }
   ],
   "source": [
    "# Suppose\n",
    "I = I_pima\n",
    "dI = dI_pima\n",
    "# get first non-zero entry\n",
    "I0 = I[next((i for i, x in enumerate(I) if x), None)]\n",
    "alpha = 0 # turn off for now\n",
    "gamma = 0 # assumption\n",
    "\n",
    "# Note: S_t is normalized by N_Pima\n",
    "S = lambda t: float(N_Pima-I0)*np.prod([1-alpha-float(I[s])/N_Pima for s in range(t-1)])/N_Pima\n",
    "S_pima = map(S, range(T))\n",
    "# would like to find a way to write the following using map, or filter\n",
    "dS_pima = [S_pima[i+1]-S_pima[i] for i in range(T-1)]\n",
    "\n",
    "\n",
    "log_I_fun = lambda t: np.sum([np.log(1-gamma+S_pima[s]) for s in range(t-1)]) \n",
    "log_I = map(log_I_fun, range(T))\n",
    "I_remade = map(lambda x: np.exp(x), log_I)\n",
    "\n",
    "\n",
    "\n",
    "I_fun = lambda t: np.prod([1-gamma+S_pima[s] for s in range(t-1)])/N_Pima\n",
    "I_recreated = map(I_fun, range(T))\n",
    "I_recreated\n",
    "\n",
    "plt.plot(range(T), S_pima)\n",
    "# plt.plot(range(T), 1-S_pima)\n",
    "# plt.plot(range(T-1), dI)\n",
    "# plt.plot(range(T), I_recreated)\n",
    "# plt.plot(range(T-1), 10000*dI/N_Pima)\n",
    "# plt.plot(range(T), I)\n",
    "# plt.show()\n"
   ]
  },
  {
   "cell_type": "code",
   "execution_count": 8,
   "metadata": {},
   "outputs": [
    {
     "data": {
      "text/plain": [
       "[<matplotlib.lines.Line2D at 0x7f965c8ddd90>]"
      ]
     },
     "execution_count": 8,
     "metadata": {},
     "output_type": "execute_result"
    },
    {
     "data": {
      "image/png": "[encoded data removed]",
      "text/plain": [
       "<Figure size 432x288 with 1 Axes>"
      ]
     },
     "metadata": {
      "needs_background": "light"
     },
     "output_type": "display_data"
    }
   ],
   "source": [
    "dI = [float(e)/N_Pima for e in dI]\n",
    "\n",
    "plt.plot(range(T-1), dI)"
   ]
  },
  {
   "cell_type": "code",
   "execution_count": 13,
   "metadata": {},
   "outputs": [],
   "source": [
    "S = lambda t: float(N_Pima-I0)*np.prod([1-alpha-float(I[s])/N_Pima for s in range(t-1)])/N_Pima\n",
    "S_pima = map(S, range(T))"
   ]
  },
  {
   "cell_type": "code",
   "execution_count": 10,
   "metadata": {},
   "outputs": [
    {
     "data": {
      "text/plain": [
       "0.999999045144608"
      ]
     },
     "execution_count": 10,
     "metadata": {},
     "output_type": "execute_result"
    }
   ],
   "source": [
    "float(N_Pima-I0)/N_Pima"
   ]
  },
  {
   "cell_type": "code",
   "execution_count": 41,
   "metadata": {},
   "outputs": [
    {
     "data": {
      "text/plain": [
       "[<matplotlib.lines.Line2D at 0x7f965dadfe50>]"
      ]
     },
     "execution_count": 41,
     "metadata": {},
     "output_type": "execute_result"
    },
    {
     "data": {
      "image/png": "[encoded data removed]",
      "text/plain": [
       "<Figure size 432x288 with 1 Axes>"
      ]
     },
     "metadata": {
      "needs_background": "light"
     },
     "output_type": "display_data"
    }
   ],
   "source": [
    "gamma = 0.0\n",
    "S_potential = [float(I[t+1])/float(I[t])-1 + gamma for t in range(T-1) if I[t] > 0]\n",
    "plt.plot(range(len(S_potential)), S_potential)"
   ]
  },
  {
   "cell_type": "code",
   "execution_count": 29,
   "metadata": {},
   "outputs": [
    {
     "data": {
      "text/plain": [
       "[<matplotlib.lines.Line2D at 0x7f965d4d4390>]"
      ]
     },
     "execution_count": 29,
     "metadata": {},
     "output_type": "execute_result"
    },
    {
     "data": {
      "image/png": "[encoded data removed]",
      "text/plain": [
       "<Figure size 432x288 with 1 Axes>"
      ]
     },
     "metadata": {
      "needs_background": "light"
     },
     "output_type": "display_data"
    }
   ],
   "source": [
    "# recursion function\n",
    "def S_rec(t):\n",
    "    if t == 0:\n",
    "        return 1\n",
    "    else:\n",
    "        return (1-float(I[t-1])/N_Pima+alpha)*S_rec(t-1)\n",
    "\n",
    "results = [S(t) for t in range(T)]\n",
    "plt.plot(range(T), results)"
   ]
  },
  {
   "cell_type": "code",
   "execution_count": 42,
   "metadata": {},
   "outputs": [
    {
     "data": {
      "image/png": "[encoded data removed]",
      "text/plain": [
       "<Figure size 432x288 with 2 Axes>"
      ]
     },
     "metadata": {
      "needs_background": "light"
     },
     "output_type": "display_data"
    }
   ],
   "source": [
    "# Create some mock data\n",
    "t = np.arange(0.01, 10.0, 0.01)\n",
    "data1 = np.exp(t)\n",
    "data2 = np.sin(2 * np.pi * t)\n",
    "\n",
    "fig, ax1 = plt.subplots()\n",
    "\n",
    "color = 'tab:red'\n",
    "ax1.set_xlabel('time (s)')\n",
    "ax1.set_ylabel('S', color=color)\n",
    "ax1.plot(range(len(S_potential)), S_potential, color=color)\n",
    "ax1.tick_params(axis='y', labelcolor=color)\n",
    "\n",
    "ax2 = ax1.twinx()  # instantiate a second axes that shares the same x-axis\n",
    "\n",
    "color = 'tab:blue'\n",
    "ax2.set_ylabel('dI', color=color)  # we already handled the x-label with ax1\n",
    "ax2.plot(range(T-1)[48:], dI[48:], color=color)\n",
    "ax2.tick_params(axis='y', labelcolor=color)\n",
    "\n",
    "fig.tight_layout()  # otherwise the right y-label is slightly clipped\n",
    "plt.show()"
   ]
  },
  {
   "cell_type": "code",
   "execution_count": null,
   "metadata": {},
   "outputs": [],
   "source": []
  }
 ],
 "metadata": {
  "kernelspec": {
   "display_name": "Python 2",
   "language": "python",
   "name": "python2"
  },
  "language_info": {
   "codemirror_mode": {
    "name": "ipython",
    "version": 2
   },
   "file_extension": ".py",
   "mimetype": "text/x-python",
   "name": "python",
   "nbconvert_exporter": "python",
   "pygments_lexer": "ipython2",
   "version": "2.7.18"
  }
 },
 "nbformat": 4,
 "nbformat_minor": 2
}
